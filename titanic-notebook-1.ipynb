{
 "cells": [
  {
   "cell_type": "code",
   "execution_count": 1,
   "id": "83c319d8",
   "metadata": {
    "_cell_guid": "b1076dfc-b9ad-4769-8c92-a6c4dae69d19",
    "_uuid": "8f2839f25d086af736a60e9eeb907d3b93b6e0e5",
    "execution": {
     "iopub.execute_input": "2022-03-24T04:35:38.457353Z",
     "iopub.status.busy": "2022-03-24T04:35:38.456176Z",
     "iopub.status.idle": "2022-03-24T04:35:38.471875Z",
     "shell.execute_reply": "2022-03-24T04:35:38.472671Z",
     "shell.execute_reply.started": "2022-03-24T03:51:22.643667Z"
    },
    "papermill": {
     "duration": 0.038145,
     "end_time": "2022-03-24T04:35:38.473052",
     "exception": false,
     "start_time": "2022-03-24T04:35:38.434907",
     "status": "completed"
    },
    "tags": []
   },
   "outputs": [
    {
     "name": "stdout",
     "output_type": "stream",
     "text": [
      "/kaggle/input/titanic/train.csv\n",
      "train.csv\n",
      "/kaggle/input/titanic/test.csv\n",
      "test.csv\n",
      "/kaggle/input/titanic/gender_submission.csv\n",
      "gender_submission.csv\n"
     ]
    }
   ],
   "source": [
    "# This Python 3 environment comes with many helpful analytics libraries installed\n",
    "# It is defined by the kaggle/python Docker image: https://github.com/kaggle/docker-python\n",
    "# For example, here's several helpful packages to load\n",
    "\n",
    "import numpy as np # linear algebra\n",
    "import pandas as pd # data processing, CSV file I/O (e.g. pd.read_csv)\n",
    "\n",
    "# Input data files are available in the read-only \"../input/\" directory\n",
    "# For example, running this (by clicking run or pressing Shift+Enter) will list all files under the input directory\n",
    "\n",
    "import os\n",
    "for dirname, _, filenames in os.walk('/kaggle/input'):\n",
    "    for filename in filenames:\n",
    "        print(os.path.join(dirname, filename))\n",
    "        print(filename)\n",
    "\n",
    "# You can write up to 20GB to the current directory (/kaggle/working/) that gets preserved as output when you create a version using \"Save & Run All\" \n",
    "# You can also write temporary files to /kaggle/temp/, but they won't be saved outside of the current session"
   ]
  },
  {
   "cell_type": "code",
   "execution_count": 2,
   "id": "6621cda3",
   "metadata": {
    "execution": {
     "iopub.execute_input": "2022-03-24T04:35:38.521019Z",
     "iopub.status.busy": "2022-03-24T04:35:38.520067Z",
     "iopub.status.idle": "2022-03-24T04:35:39.671936Z",
     "shell.execute_reply": "2022-03-24T04:35:39.671287Z",
     "shell.execute_reply.started": "2022-03-24T04:11:26.395924Z"
    },
    "papermill": {
     "duration": 1.175145,
     "end_time": "2022-03-24T04:35:39.672088",
     "exception": false,
     "start_time": "2022-03-24T04:35:38.496943",
     "status": "completed"
    },
    "tags": []
   },
   "outputs": [],
   "source": [
    "train = pd.read_csv('../input/titanic/train.csv')\n",
    "test = pd.read_csv('../input/titanic/test.csv')\n",
    "\n",
    "from sklearn.preprocessing import OrdinalEncoder\n",
    "train = train.drop(['Name'], axis = 1)"
   ]
  },
  {
   "cell_type": "markdown",
   "id": "96d4d070",
   "metadata": {
    "papermill": {
     "duration": 0.014604,
     "end_time": "2022-03-24T04:35:39.701421",
     "exception": false,
     "start_time": "2022-03-24T04:35:39.686817",
     "status": "completed"
    },
    "tags": []
   },
   "source": [
    "## Points to think about\n",
    "- does ticket number matter (is there information that you can get from ticket number)\n",
    "- need to use cabin, but for right now I'm leaving it out"
   ]
  },
  {
   "cell_type": "markdown",
   "id": "e75b8505",
   "metadata": {
    "papermill": {
     "duration": 0.014361,
     "end_time": "2022-03-24T04:35:39.730588",
     "exception": false,
     "start_time": "2022-03-24T04:35:39.716227",
     "status": "completed"
    },
    "tags": []
   },
   "source": [
    "# Preprocessing Steps"
   ]
  },
  {
   "cell_type": "code",
   "execution_count": 3,
   "id": "209aadff",
   "metadata": {
    "execution": {
     "iopub.execute_input": "2022-03-24T04:35:39.771659Z",
     "iopub.status.busy": "2022-03-24T04:35:39.770781Z",
     "iopub.status.idle": "2022-03-24T04:35:39.775687Z",
     "shell.execute_reply": "2022-03-24T04:35:39.775120Z",
     "shell.execute_reply.started": "2022-03-24T04:11:27.683171Z"
    },
    "papermill": {
     "duration": 0.030577,
     "end_time": "2022-03-24T04:35:39.775836",
     "exception": false,
     "start_time": "2022-03-24T04:35:39.745259",
     "status": "completed"
    },
    "tags": []
   },
   "outputs": [],
   "source": [
    "oe_sex = OrdinalEncoder()\n",
    "oe_embarked = OrdinalEncoder()\n",
    "train['sex_encoded'] = oe_sex.fit_transform(train[['Sex']])\n",
    "train['embarked_encoded'] = oe_embarked.fit_transform(train[['Embarked']])"
   ]
  },
  {
   "cell_type": "code",
   "execution_count": 4,
   "id": "446cafa8",
   "metadata": {
    "execution": {
     "iopub.execute_input": "2022-03-24T04:35:39.811434Z",
     "iopub.status.busy": "2022-03-24T04:35:39.810831Z",
     "iopub.status.idle": "2022-03-24T04:35:39.813190Z",
     "shell.execute_reply": "2022-03-24T04:35:39.813670Z",
     "shell.execute_reply.started": "2022-03-24T04:11:28.255219Z"
    },
    "papermill": {
     "duration": 0.023319,
     "end_time": "2022-03-24T04:35:39.813843",
     "exception": false,
     "start_time": "2022-03-24T04:35:39.790524",
     "status": "completed"
    },
    "tags": []
   },
   "outputs": [],
   "source": [
    "train = train.drop(['PassengerId','Sex', 'Ticket', 'Embarked', 'Cabin'], axis = 1)"
   ]
  },
  {
   "cell_type": "code",
   "execution_count": 5,
   "id": "57a52638",
   "metadata": {
    "execution": {
     "iopub.execute_input": "2022-03-24T04:35:39.846947Z",
     "iopub.status.busy": "2022-03-24T04:35:39.845663Z",
     "iopub.status.idle": "2022-03-24T04:35:39.854319Z",
     "shell.execute_reply": "2022-03-24T04:35:39.854905Z",
     "shell.execute_reply.started": "2022-03-24T04:26:49.391143Z"
    },
    "papermill": {
     "duration": 0.02661,
     "end_time": "2022-03-24T04:35:39.855075",
     "exception": false,
     "start_time": "2022-03-24T04:35:39.828465",
     "status": "completed"
    },
    "tags": []
   },
   "outputs": [
    {
     "data": {
      "text/plain": [
       "Survived              0\n",
       "Pclass                0\n",
       "Age                 177\n",
       "SibSp                 0\n",
       "Parch                 0\n",
       "Fare                  0\n",
       "sex_encoded           0\n",
       "embarked_encoded      2\n",
       "dtype: int64"
      ]
     },
     "execution_count": 5,
     "metadata": {},
     "output_type": "execute_result"
    }
   ],
   "source": [
    "train.isna().sum(axis=0)"
   ]
  },
  {
   "cell_type": "code",
   "execution_count": 6,
   "id": "0979cea5",
   "metadata": {
    "execution": {
     "iopub.execute_input": "2022-03-24T04:35:39.888390Z",
     "iopub.status.busy": "2022-03-24T04:35:39.887788Z",
     "iopub.status.idle": "2022-03-24T04:35:39.895955Z",
     "shell.execute_reply": "2022-03-24T04:35:39.896459Z",
     "shell.execute_reply.started": "2022-03-24T04:26:54.955916Z"
    },
    "papermill": {
     "duration": 0.02653,
     "end_time": "2022-03-24T04:35:39.896644",
     "exception": false,
     "start_time": "2022-03-24T04:35:39.870114",
     "status": "completed"
    },
    "tags": []
   },
   "outputs": [],
   "source": [
    "x = train.drop(['Survived'], axis =1)\n",
    "x = x.fillna(train.mean())\n",
    "y = train[['Survived']]"
   ]
  },
  {
   "cell_type": "code",
   "execution_count": 7,
   "id": "8c74eaf4",
   "metadata": {
    "execution": {
     "iopub.execute_input": "2022-03-24T04:35:39.931108Z",
     "iopub.status.busy": "2022-03-24T04:35:39.930447Z",
     "iopub.status.idle": "2022-03-24T04:35:39.937233Z",
     "shell.execute_reply": "2022-03-24T04:35:39.937817Z",
     "shell.execute_reply.started": "2022-03-24T04:27:04.255527Z"
    },
    "papermill": {
     "duration": 0.025587,
     "end_time": "2022-03-24T04:35:39.937988",
     "exception": false,
     "start_time": "2022-03-24T04:35:39.912401",
     "status": "completed"
    },
    "tags": []
   },
   "outputs": [
    {
     "data": {
      "text/plain": [
       "Pclass              0\n",
       "Age                 0\n",
       "SibSp               0\n",
       "Parch               0\n",
       "Fare                0\n",
       "sex_encoded         0\n",
       "embarked_encoded    0\n",
       "dtype: int64"
      ]
     },
     "execution_count": 7,
     "metadata": {},
     "output_type": "execute_result"
    }
   ],
   "source": [
    "x.isna().sum(axis=0)"
   ]
  },
  {
   "cell_type": "code",
   "execution_count": 8,
   "id": "3550bfe3",
   "metadata": {
    "execution": {
     "iopub.execute_input": "2022-03-24T04:35:39.971774Z",
     "iopub.status.busy": "2022-03-24T04:35:39.971149Z",
     "iopub.status.idle": "2022-03-24T04:35:40.018580Z",
     "shell.execute_reply": "2022-03-24T04:35:40.019145Z",
     "shell.execute_reply.started": "2022-03-24T04:27:22.666045Z"
    },
    "papermill": {
     "duration": 0.065903,
     "end_time": "2022-03-24T04:35:40.019318",
     "exception": false,
     "start_time": "2022-03-24T04:35:39.953415",
     "status": "completed"
    },
    "tags": []
   },
   "outputs": [],
   "source": [
    "from sklearn.model_selection import train_test_split\n",
    "\n",
    "x_train, x_test, y_train, y_test = train_test_split(x, y, test_size = 0.2)"
   ]
  },
  {
   "cell_type": "code",
   "execution_count": 9,
   "id": "a0f5cc06",
   "metadata": {
    "execution": {
     "iopub.execute_input": "2022-03-24T04:35:40.053384Z",
     "iopub.status.busy": "2022-03-24T04:35:40.052775Z",
     "iopub.status.idle": "2022-03-24T04:35:40.498721Z",
     "shell.execute_reply": "2022-03-24T04:35:40.499253Z",
     "shell.execute_reply.started": "2022-03-24T04:27:23.184600Z"
    },
    "papermill": {
     "duration": 0.46438,
     "end_time": "2022-03-24T04:35:40.499425",
     "exception": false,
     "start_time": "2022-03-24T04:35:40.035045",
     "status": "completed"
    },
    "tags": []
   },
   "outputs": [
    {
     "name": "stdout",
     "output_type": "stream",
     "text": [
      "0.7988826815642458\n"
     ]
    },
    {
     "name": "stderr",
     "output_type": "stream",
     "text": [
      "/opt/conda/lib/python3.7/site-packages/ipykernel_launcher.py:13: DataConversionWarning: A column-vector y was passed when a 1d array was expected. Please change the shape of y to (n_samples,), for example using ravel().\n",
      "  del sys.path[0]\n"
     ]
    },
    {
     "name": "stdout",
     "output_type": "stream",
     "text": [
      "0.770949720670391\n"
     ]
    }
   ],
   "source": [
    "from sklearn.tree import DecisionTreeClassifier\n",
    "from sklearn.ensemble import RandomForestClassifier\n",
    "from sklearn.metrics import accuracy_score\n",
    "\n",
    "tree = DecisionTreeClassifier()\n",
    "forest = RandomForestClassifier()\n",
    "\n",
    "tree.fit(x_train, y_train)\n",
    "y_pred = tree.predict(x_test)\n",
    "\n",
    "print(accuracy_score(y_test, y_pred))\n",
    "\n",
    "forest.fit(x_train, y_train)\n",
    "y_pred = forest.predict(x_test)\n",
    "\n",
    "print(accuracy_score(y_test, y_pred))"
   ]
  },
  {
   "cell_type": "code",
   "execution_count": null,
   "id": "324a5869",
   "metadata": {
    "execution": {
     "iopub.execute_input": "2022-03-24T04:29:49.851974Z",
     "iopub.status.busy": "2022-03-24T04:29:49.851705Z",
     "iopub.status.idle": "2022-03-24T04:29:49.874482Z",
     "shell.execute_reply": "2022-03-24T04:29:49.873003Z",
     "shell.execute_reply.started": "2022-03-24T04:29:49.851946Z"
    },
    "papermill": {
     "duration": 0.016374,
     "end_time": "2022-03-24T04:35:40.532344",
     "exception": false,
     "start_time": "2022-03-24T04:35:40.515970",
     "status": "completed"
    },
    "tags": []
   },
   "outputs": [],
   "source": []
  },
  {
   "cell_type": "code",
   "execution_count": 10,
   "id": "c11d45f6",
   "metadata": {
    "execution": {
     "iopub.execute_input": "2022-03-24T04:35:40.569396Z",
     "iopub.status.busy": "2022-03-24T04:35:40.568418Z",
     "iopub.status.idle": "2022-03-24T04:35:40.576846Z",
     "shell.execute_reply": "2022-03-24T04:35:40.577444Z",
     "shell.execute_reply.started": "2022-03-24T04:31:12.989667Z"
    },
    "papermill": {
     "duration": 0.028767,
     "end_time": "2022-03-24T04:35:40.577634",
     "exception": false,
     "start_time": "2022-03-24T04:35:40.548867",
     "status": "completed"
    },
    "tags": []
   },
   "outputs": [
    {
     "data": {
      "text/plain": [
       "<891x3 sparse matrix of type '<class 'numpy.float64'>'\n",
       "\twith 891 stored elements in Compressed Sparse Row format>"
      ]
     },
     "execution_count": 10,
     "metadata": {},
     "output_type": "execute_result"
    }
   ],
   "source": [
    "from sklearn.preprocessing import OneHotEncoder\n",
    "\n",
    "ohe = OneHotEncoder()\n",
    "ohe.fit_transform(x[['Pclass']])"
   ]
  },
  {
   "cell_type": "code",
   "execution_count": null,
   "id": "b47c8bf3",
   "metadata": {
    "papermill": {
     "duration": 0.01654,
     "end_time": "2022-03-24T04:35:40.611175",
     "exception": false,
     "start_time": "2022-03-24T04:35:40.594635",
     "status": "completed"
    },
    "tags": []
   },
   "outputs": [],
   "source": []
  }
 ],
 "metadata": {
  "kernelspec": {
   "display_name": "Python 3",
   "language": "python",
   "name": "python3"
  },
  "language_info": {
   "codemirror_mode": {
    "name": "ipython",
    "version": 3
   },
   "file_extension": ".py",
   "mimetype": "text/x-python",
   "name": "python",
   "nbconvert_exporter": "python",
   "pygments_lexer": "ipython3",
   "version": "3.7.12"
  },
  "papermill": {
   "default_parameters": {},
   "duration": 12.382093,
   "end_time": "2022-03-24T04:35:41.337544",
   "environment_variables": {},
   "exception": null,
   "input_path": "__notebook__.ipynb",
   "output_path": "__notebook__.ipynb",
   "parameters": {},
   "start_time": "2022-03-24T04:35:28.955451",
   "version": "2.3.3"
  }
 },
 "nbformat": 4,
 "nbformat_minor": 5
}
